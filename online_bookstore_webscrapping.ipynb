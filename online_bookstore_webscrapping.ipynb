{
  "nbformat": 4,
  "nbformat_minor": 0,
  "metadata": {
    "colab": {
      "provenance": [],
      "authorship_tag": "ABX9TyO9UVh1APm9dTPdzVhRHIoH",
      "include_colab_link": true
    },
    "kernelspec": {
      "name": "python3",
      "display_name": "Python 3"
    },
    "language_info": {
      "name": "python"
    }
  },
  "cells": [
    {
      "cell_type": "markdown",
      "metadata": {
        "id": "view-in-github",
        "colab_type": "text"
      },
      "source": [
        "<a href=\"https://colab.research.google.com/github/miteshtiwary123/bookstore-webscrapping/blob/main/online_bookstore_webscrapping.ipynb\" target=\"_parent\"><img src=\"https://colab.research.google.com/assets/colab-badge.svg\" alt=\"Open In Colab\"/></a>"
      ]
    },
    {
      "cell_type": "markdown",
      "source": [
        "##creating empty list"
      ],
      "metadata": {
        "id": "uw4EacBefq7P"
      }
    },
    {
      "cell_type": "code",
      "source": [
        "import requests\n",
        "import bs4\n",
        "import pandas as pd"
      ],
      "metadata": {
        "id": "OQAikGjJuvzG"
      },
      "execution_count": 59,
      "outputs": []
    },
    {
      "cell_type": "code",
      "source": [
        "pages=[]\n",
        "prices=[]\n",
        "ratings=[]\n",
        "title=[]\n",
        "urls=[]"
      ],
      "metadata": {
        "id": "_LZ52qvafnH_"
      },
      "execution_count": 60,
      "outputs": []
    },
    {
      "cell_type": "code",
      "source": [
        "no_of_pages = 50 # number of pages to be selected"
      ],
      "metadata": {
        "id": "iilJ3-K9f7eC"
      },
      "execution_count": 61,
      "outputs": []
    },
    {
      "cell_type": "code",
      "source": [
        "for i in range(1,no_of_pages+1):\n",
        "  url=('http://books.toscrape.com/catalogue/page-{}.html'.format(i))\n",
        "\n",
        "  pages.append(url)"
      ],
      "metadata": {
        "id": "gjGc4OSBgDsl"
      },
      "execution_count": 62,
      "outputs": []
    },
    {
      "cell_type": "code",
      "source": [
        "print('Number of pages: ', len(pages))\n",
        "print(pages)"
      ],
      "metadata": {
        "colab": {
          "base_uri": "https://localhost:8080/"
        },
        "id": "iNc0pO6xtGyX",
        "outputId": "67916f75-343f-4f3f-a345-dbb08d2f5dae"
      },
      "execution_count": 63,
      "outputs": [
        {
          "output_type": "stream",
          "name": "stdout",
          "text": [
            "Number of pages:  50\n",
            "['http://books.toscrape.com/catalogue/page-1.html', 'http://books.toscrape.com/catalogue/page-2.html', 'http://books.toscrape.com/catalogue/page-3.html', 'http://books.toscrape.com/catalogue/page-4.html', 'http://books.toscrape.com/catalogue/page-5.html', 'http://books.toscrape.com/catalogue/page-6.html', 'http://books.toscrape.com/catalogue/page-7.html', 'http://books.toscrape.com/catalogue/page-8.html', 'http://books.toscrape.com/catalogue/page-9.html', 'http://books.toscrape.com/catalogue/page-10.html', 'http://books.toscrape.com/catalogue/page-11.html', 'http://books.toscrape.com/catalogue/page-12.html', 'http://books.toscrape.com/catalogue/page-13.html', 'http://books.toscrape.com/catalogue/page-14.html', 'http://books.toscrape.com/catalogue/page-15.html', 'http://books.toscrape.com/catalogue/page-16.html', 'http://books.toscrape.com/catalogue/page-17.html', 'http://books.toscrape.com/catalogue/page-18.html', 'http://books.toscrape.com/catalogue/page-19.html', 'http://books.toscrape.com/catalogue/page-20.html', 'http://books.toscrape.com/catalogue/page-21.html', 'http://books.toscrape.com/catalogue/page-22.html', 'http://books.toscrape.com/catalogue/page-23.html', 'http://books.toscrape.com/catalogue/page-24.html', 'http://books.toscrape.com/catalogue/page-25.html', 'http://books.toscrape.com/catalogue/page-26.html', 'http://books.toscrape.com/catalogue/page-27.html', 'http://books.toscrape.com/catalogue/page-28.html', 'http://books.toscrape.com/catalogue/page-29.html', 'http://books.toscrape.com/catalogue/page-30.html', 'http://books.toscrape.com/catalogue/page-31.html', 'http://books.toscrape.com/catalogue/page-32.html', 'http://books.toscrape.com/catalogue/page-33.html', 'http://books.toscrape.com/catalogue/page-34.html', 'http://books.toscrape.com/catalogue/page-35.html', 'http://books.toscrape.com/catalogue/page-36.html', 'http://books.toscrape.com/catalogue/page-37.html', 'http://books.toscrape.com/catalogue/page-38.html', 'http://books.toscrape.com/catalogue/page-39.html', 'http://books.toscrape.com/catalogue/page-40.html', 'http://books.toscrape.com/catalogue/page-41.html', 'http://books.toscrape.com/catalogue/page-42.html', 'http://books.toscrape.com/catalogue/page-43.html', 'http://books.toscrape.com/catalogue/page-44.html', 'http://books.toscrape.com/catalogue/page-45.html', 'http://books.toscrape.com/catalogue/page-46.html', 'http://books.toscrape.com/catalogue/page-47.html', 'http://books.toscrape.com/catalogue/page-48.html', 'http://books.toscrape.com/catalogue/page-49.html', 'http://books.toscrape.com/catalogue/page-50.html']\n"
          ]
        }
      ]
    },
    {
      "cell_type": "code",
      "source": [
        "for item in pages:\n",
        "  page=requests.get(item)\n",
        "  soup=bs4.BeautifulSoup(page.text,'html.parser')"
      ],
      "metadata": {
        "id": "WR29y8Qxt4OB"
      },
      "execution_count": 64,
      "outputs": []
    },
    {
      "cell_type": "code",
      "source": [
        "print(soup.prettify())"
      ],
      "metadata": {
        "id": "arTKzer8u5s1"
      },
      "execution_count": null,
      "outputs": []
    },
    {
      "cell_type": "markdown",
      "source": [
        "#Finding all the titles"
      ],
      "metadata": {
        "id": "4L2DXWOzvTpb"
      }
    },
    {
      "cell_type": "code",
      "source": [
        "for t in soup.findAll('h3'):\n",
        "  print(t)"
      ],
      "metadata": {
        "id": "lJkDhk6wu8c4"
      },
      "execution_count": null,
      "outputs": []
    },
    {
      "cell_type": "code",
      "source": [
        "for t in soup.findAll('h3'):\n",
        "  titless = t.getText()\n",
        "  title.append(titless)"
      ],
      "metadata": {
        "id": "UFpETe9swFzo"
      },
      "execution_count": 67,
      "outputs": []
    },
    {
      "cell_type": "code",
      "source": [
        "titless"
      ],
      "metadata": {
        "colab": {
          "base_uri": "https://localhost:8080/",
          "height": 35
        },
        "id": "LybxGoUCwulc",
        "outputId": "fb22308a-24d2-4068-93b6-7244616886ff"
      },
      "execution_count": 68,
      "outputs": [
        {
          "output_type": "execute_result",
          "data": {
            "text/plain": [
              "'1,000 Places to See ...'"
            ],
            "application/vnd.google.colaboratory.intrinsic+json": {
              "type": "string"
            }
          },
          "metadata": {},
          "execution_count": 68
        }
      ]
    },
    {
      "cell_type": "code",
      "source": [
        "title"
      ],
      "metadata": {
        "id": "tu5w_6LSw3Qr"
      },
      "execution_count": null,
      "outputs": []
    },
    {
      "cell_type": "markdown",
      "source": [
        "#**Finding all the Prices**"
      ],
      "metadata": {
        "id": "AL323uMjxVYd"
      }
    },
    {
      "cell_type": "code",
      "source": [
        "for p in soup.find_all('p', class_='price_color'):\n",
        "  price=p.getText()\n",
        "  prices.append(price)"
      ],
      "metadata": {
        "id": "6tG9_CL5w4R2"
      },
      "execution_count": 70,
      "outputs": []
    },
    {
      "cell_type": "code",
      "source": [
        "print(prices)"
      ],
      "metadata": {
        "colab": {
          "base_uri": "https://localhost:8080/"
        },
        "id": "JVOlBZOiyAb1",
        "outputId": "06195313-399c-4d83-e621-addbd7852ae9"
      },
      "execution_count": 71,
      "outputs": [
        {
          "output_type": "stream",
          "name": "stdout",
          "text": [
            "['Â£38.00', 'Â£28.80', 'Â£39.24', 'Â£32.93', 'Â£51.32', 'Â£47.09', 'Â£28.42', 'Â£22.85', 'Â£41.24', 'Â£39.07', 'Â£29.82', 'Â£37.26', 'Â£20.30', 'Â£34.65', 'Â£43.38', 'Â£55.53', 'Â£57.06', 'Â£16.97', 'Â£53.98', 'Â£26.08']\n"
          ]
        }
      ]
    },
    {
      "cell_type": "code",
      "source": [
        "for s in soup.find_all('p', class_='star-rating'):\n",
        "  for k,v in s.attrs.items():\n",
        "    star = v[1]\n",
        "    ratings.append(star)\n",
        "    print(star)"
      ],
      "metadata": {
        "id": "3Lv22ACQyDET"
      },
      "execution_count": null,
      "outputs": []
    },
    {
      "cell_type": "markdown",
      "source": [
        "#**Finding all the URL's of the images**"
      ],
      "metadata": {
        "id": "Ch90fjezzgjw"
      }
    },
    {
      "cell_type": "code",
      "source": [
        "divs = soup.find_all('div', class_='image_container')\n",
        "for thumbs in divs:\n",
        "  tagss = thumbs.find('img', class_='thumbnail')\n",
        "  links='http://books.toscrape.com/' + str(tagss['src'])\n",
        "  newlinks = links.replace('..','')\n",
        "  urls.append(newlinks)"
      ],
      "metadata": {
        "id": "nCj5iQBNzpVv"
      },
      "execution_count": 73,
      "outputs": []
    },
    {
      "cell_type": "code",
      "source": [
        "divs"
      ],
      "metadata": {
        "id": "GmzpuQLz3JeS"
      },
      "execution_count": null,
      "outputs": []
    },
    {
      "cell_type": "code",
      "source": [
        "links"
      ],
      "metadata": {
        "id": "0fSbF0ZU3KdV"
      },
      "execution_count": null,
      "outputs": []
    },
    {
      "cell_type": "code",
      "source": [
        "newlinks"
      ],
      "metadata": {
        "id": "E4YdQ7BZ4GUW"
      },
      "execution_count": null,
      "outputs": []
    },
    {
      "cell_type": "code",
      "source": [
        "urls"
      ],
      "metadata": {
        "id": "78dPV8yG4KD3"
      },
      "execution_count": null,
      "outputs": []
    },
    {
      "cell_type": "markdown",
      "source": [
        "#**Data Processing on Scraped Data**"
      ],
      "metadata": {
        "id": "0-GL1wVz4oad"
      }
    },
    {
      "cell_type": "code",
      "source": [
        "web_data = {'Title' :title, 'Price' :prices, 'Ratings' :ratings, 'URL' :urls}"
      ],
      "metadata": {
        "id": "hKlCcKq64aac"
      },
      "execution_count": 78,
      "outputs": []
    },
    {
      "cell_type": "code",
      "source": [
        "print(len(title))\n",
        "print(len(prices))\n",
        "print(len(ratings))\n",
        "print(len(urls))"
      ],
      "metadata": {
        "colab": {
          "base_uri": "https://localhost:8080/"
        },
        "id": "sH_V6-6K5HxJ",
        "outputId": "988da61b-2752-423e-f33a-098bfd5dbf8d"
      },
      "execution_count": 79,
      "outputs": [
        {
          "output_type": "stream",
          "name": "stdout",
          "text": [
            "20\n",
            "20\n",
            "20\n",
            "20\n"
          ]
        }
      ]
    },
    {
      "cell_type": "markdown",
      "source": [
        "#Convert dictionary to Dataframe"
      ],
      "metadata": {
        "id": "14smGWAQ5svk"
      }
    },
    {
      "cell_type": "code",
      "source": [
        "df = pd.DataFrame(web_data)"
      ],
      "metadata": {
        "id": "5XCVsFha5kJ2"
      },
      "execution_count": 80,
      "outputs": []
    },
    {
      "cell_type": "code",
      "source": [
        "df"
      ],
      "metadata": {
        "id": "ue6MGaXd52vH"
      },
      "execution_count": null,
      "outputs": []
    },
    {
      "cell_type": "code",
      "source": [
        "df.index+=1\n",
        "df"
      ],
      "metadata": {
        "id": "02G37VNS5-GV"
      },
      "execution_count": null,
      "outputs": []
    },
    {
      "cell_type": "code",
      "source": [
        "df['Price'] = df['Price'].str.replace('Â£','')\n",
        "df"
      ],
      "metadata": {
        "id": "uPdarpqi6Niu"
      },
      "execution_count": null,
      "outputs": []
    },
    {
      "cell_type": "code",
      "source": [
        "df.sort_values(by='Price', ascending=False, inplace=True)"
      ],
      "metadata": {
        "id": "osg6kG756pgI"
      },
      "execution_count": 84,
      "outputs": []
    },
    {
      "cell_type": "code",
      "source": [
        "df['Ratings'] = df['Ratings'].replace({'One':1, 'Two':2, 'Three':3, 'Four':4, 'Five':5})"
      ],
      "metadata": {
        "id": "5huuS1ox62Pn"
      },
      "execution_count": 85,
      "outputs": []
    },
    {
      "cell_type": "code",
      "source": [
        "df.dtypes"
      ],
      "metadata": {
        "colab": {
          "base_uri": "https://localhost:8080/"
        },
        "id": "uHnz-OUw7c8V",
        "outputId": "16bc1919-5a3e-47d7-a9d4-ea17982f2da0"
      },
      "execution_count": 86,
      "outputs": [
        {
          "output_type": "execute_result",
          "data": {
            "text/plain": [
              "Title      object\n",
              "Price      object\n",
              "Ratings     int64\n",
              "URL        object\n",
              "dtype: object"
            ]
          },
          "metadata": {},
          "execution_count": 86
        }
      ]
    },
    {
      "cell_type": "code",
      "source": [
        "df['Price'] = df['Price'].astype(float)"
      ],
      "metadata": {
        "id": "L2vb2P1F7dlJ"
      },
      "execution_count": 87,
      "outputs": []
    },
    {
      "cell_type": "code",
      "source": [
        "df.dtypes"
      ],
      "metadata": {
        "id": "xXEzFE7_ClHb"
      },
      "execution_count": null,
      "outputs": []
    },
    {
      "cell_type": "code",
      "source": [
        "df.corr()"
      ],
      "metadata": {
        "id": "H4McKE4tCl8P"
      },
      "execution_count": null,
      "outputs": []
    },
    {
      "cell_type": "markdown",
      "source": [
        "#We can visualise it"
      ],
      "metadata": {
        "id": "K6APIGGOFq-8"
      }
    },
    {
      "cell_type": "code",
      "source": [
        "import matplotlib.pyplot as plt\n",
        "import seaborn as sns\n",
        "\n",
        "plt.figure(figsize=(5,5))\n",
        "sns.heatmap(df.corr())"
      ],
      "metadata": {
        "colab": {
          "base_uri": "https://localhost:8080/",
          "height": 341
        },
        "id": "4OArUqoFFX3y",
        "outputId": "5fca63b6-b449-40f0-8e6f-6bbd7325ce29"
      },
      "execution_count": 90,
      "outputs": [
        {
          "output_type": "execute_result",
          "data": {
            "text/plain": [
              "<matplotlib.axes._subplots.AxesSubplot at 0x7f81e0675ca0>"
            ]
          },
          "metadata": {},
          "execution_count": 90
        },
        {
          "output_type": "display_data",
          "data": {
            "text/plain": [
              "<Figure size 360x360 with 2 Axes>"
            ],
            "image/png": "[encoded data removed]"
          },
          "metadata": {
            "needs_background": "light"
          }
        }
      ]
    }
  ]
}